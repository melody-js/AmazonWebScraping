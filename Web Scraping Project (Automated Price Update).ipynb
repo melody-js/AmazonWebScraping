{
 "cells": [
  {
   "cell_type": "code",
   "execution_count": 11,
   "id": "a60c6806",
   "metadata": {},
   "outputs": [],
   "source": [
    "# import libraries \n",
    "\n",
    "from bs4 import BeautifulSoup \n",
    "\n",
    "import requests \n",
    "import time \n",
    "import datetime \n",
    "import smtplib\n"
   ]
  },
  {
   "cell_type": "code",
   "execution_count": 94,
   "id": "bd553da4",
   "metadata": {},
   "outputs": [
    {
     "name": "stdout",
     "output_type": "stream",
     "text": [
      "\n",
      "            Goosehill Inflatable Stand Up Paddle Board 10'6'' x 32\" x 6\", Reinforced Double Layer All-Around Paddleboard for All Skill Level, Ultra Light, Stable and Reliable with Premium SUP Package\n",
      "           \n",
      "$399.99\n"
     ]
    }
   ],
   "source": [
    "# connect to website \n",
    "\n",
    "URL = 'https://www.amazon.ca/Goosehill-Inflatable-Premium-Patterns-Customization/dp/B085L3CDCR/ref=sr_1_6?crid=1L00B8Q2NDJ74&keywords=paddleboard&qid=1665979079&qu=eyJxc2MiOiI3LjYwIiwicXNhIjoiNy40NSIsInFzcCI6IjYuNjMifQ%3D%3D&sprefix=paddleboar%2Caps%2C80&sr=8-6'\n",
    "\n",
    "headers = {\"User-Agent\": \"Mozilla/5.0 (Macintosh; Intel Mac OS X 10_15_7) AppleWebKit/537.36 (KHTML, like Gecko) Chrome/106.0.0.0 Safari/537.36\",\"Accept-Encoding\": \"gzip, deflate\", \"Accept\":\"text/html, application/xhtml+xml,application/xml;q=0.9*/*;q=0.8\",\"DNT\":\"1\", \"Connection\":\"close\", \"Upgrade-Insecure-Requests\":\"1\"}\n",
    "\n",
    "page = requests.get(URL, headers = headers)\n",
    "\n",
    "soup1 = BeautifulSoup(page.content,'html.parser')\n",
    "soup2 = BeautifulSoup(soup1.prettify(),'html.parser')\n",
    "\n",
    "# to get title \n",
    "title = soup2.find(id='productTitle').get_text()\n",
    "\n",
    "# to get price\n",
    "price = soup2.find(\"span\", attrs={'class':'a-offscreen'}).string.strip()\n",
    "\n",
    "\n",
    "print(title)\n",
    "print(price)\n",
    "\n"
   ]
  },
  {
   "cell_type": "code",
   "execution_count": 95,
   "id": "e75659db",
   "metadata": {},
   "outputs": [
    {
     "name": "stdout",
     "output_type": "stream",
     "text": [
      "Goosehill Inflatable Stand Up Paddle Board 10'6'' x 32\" x 6\", Reinforced Double Layer All-Around Paddleboard for All Skill Level, Ultra Light, Stable and Reliable with Premium SUP Package\n",
      "399.99\n"
     ]
    }
   ],
   "source": [
    "# to get rid of the dollar sign\n",
    "\n",
    "title = title.strip()\n",
    "price = price.strip()[1:]\n",
    "\n",
    "\n",
    "print(title)\n",
    "print(price)\n"
   ]
  },
  {
   "cell_type": "code",
   "execution_count": 74,
   "id": "842a1a60",
   "metadata": {},
   "outputs": [
    {
     "name": "stdout",
     "output_type": "stream",
     "text": [
      "2022-10-17\n"
     ]
    }
   ],
   "source": [
    "# get date\n",
    "import datetime\n",
    "today = datetime.date.today()\n",
    "print(today)\n"
   ]
  },
  {
   "cell_type": "code",
   "execution_count": 96,
   "id": "9fc10a18",
   "metadata": {},
   "outputs": [],
   "source": [
    "# create csv\n",
    "\n",
    "import csv \n",
    "\n",
    "header = ['Product Title','Price','Date']\n",
    "data = [title,price,today]\n",
    "\n",
    "with open('AmazonWebDataset.csv','w',newline='',encoding='UTF8') as f:\n",
    "    writer = csv.writer(f)\n",
    "    writer.writerow(header)\n",
    "    writer.writerow(data)\n",
    "    "
   ]
  },
  {
   "cell_type": "code",
   "execution_count": 100,
   "id": "24b8a283",
   "metadata": {},
   "outputs": [
    {
     "name": "stdout",
     "output_type": "stream",
     "text": [
      "                                       Product Title   Price        Date\n",
      "0  Goosehill Inflatable Stand Up Paddle Board 10'...  399.99  2022-10-17\n"
     ]
    }
   ],
   "source": [
    "# get csv\n",
    "\n",
    "import pandas as pd\n",
    "\n",
    "df = pd.read_csv('/Users/melody/AmazonWebDataset.csv')\n",
    "print(df)\n"
   ]
  },
  {
   "cell_type": "code",
   "execution_count": 101,
   "id": "d77850a9",
   "metadata": {},
   "outputs": [],
   "source": [
    "# append data to csv \n",
    "\n",
    "with open('AmazonWebDataset.csv','a+',newline='',encoding='UTF8') as f:\n",
    "    writer = csv.writer(f)\n",
    "    writer.writerow(data)\n",
    "    "
   ]
  },
  {
   "cell_type": "code",
   "execution_count": 102,
   "id": "cde60dc3",
   "metadata": {},
   "outputs": [],
   "source": [
    "def check_price():\n",
    "    \n",
    "    URL = 'https://www.amazon.ca/Goosehill-Inflatable-Premium-Patterns-Customization/dp/B085L3CDCR/ref=sr_1_6?crid=1L00B8Q2NDJ74&keywords=paddleboard&qid=1665979079&qu=eyJxc2MiOiI3LjYwIiwicXNhIjoiNy40NSIsInFzcCI6IjYuNjMifQ%3D%3D&sprefix=paddleboar%2Caps%2C80&sr=8-6'\n",
    "\n",
    "    headers = {\"User-Agent\": \"Mozilla/5.0 (Macintosh; Intel Mac OS X 10_15_7) AppleWebKit/537.36 (KHTML, like Gecko) Chrome/106.0.0.0 Safari/537.36\",\"Accept-Encoding\": \"gzip, deflate\", \"Accept\":\"text/html, application/xhtml+xml,application/xml;q=0.9*/*;q=0.8\",\"DNT\":\"1\", \"Connection\":\"close\", \"Upgrade-Insecure-Requests\":\"1\"}\n",
    "\n",
    "    page = requests.get(URL, headers = headers)\n",
    "     \n",
    "    soup1 = BeautifulSoup(page.content,'html.parser')\n",
    "    soup2 = BeautifulSoup(soup1.prettify(),'html.parser')\n",
    "\n",
    "    # to get title \n",
    "    title = soup2.find(id='productTitle').get_text()\n",
    "\n",
    "    # to get price\n",
    "    price = soup2.find(\"span\", attrs={'class':'a-offscreen'}).string.strip()\n",
    "    \n",
    "    \n",
    "    title = title.strip()\n",
    "    price = price.strip()[1:]\n",
    "    \n",
    "    import datetime\n",
    "    today = datetime.date.today()\n",
    "    \n",
    "    import csv \n",
    "    header = ['Product Title','Price','Date']\n",
    "    data = [title,price,today]\n",
    "    \n",
    "    with open('AmazonWebDataset.csv','a+',newline='',encoding='UTF8') as f:\n",
    "         writer = csv.writer(f)\n",
    "         writer.writerow(data)\n",
    "        \n"
   ]
  },
  {
   "cell_type": "code",
   "execution_count": null,
   "id": "9905899a",
   "metadata": {},
   "outputs": [],
   "source": [
    "# check the price every 12 hours \n",
    "\n",
    "while(True):\n",
    "    check_price()\n",
    "    time.sleep(43200)\n",
    "    "
   ]
  },
  {
   "cell_type": "code",
   "execution_count": null,
   "id": "352a6efb",
   "metadata": {},
   "outputs": [],
   "source": [
    "import pandas as pd\n",
    "\n",
    "df = pd.read_csv('/Users/melody/AmazonWebDataset.csv')\n",
    "print(df)"
   ]
  },
  {
   "cell_type": "code",
   "execution_count": null,
   "id": "af978c48",
   "metadata": {},
   "outputs": [],
   "source": [
    "\n",
    "    "
   ]
  },
  {
   "cell_type": "code",
   "execution_count": null,
   "id": "c5be2266",
   "metadata": {},
   "outputs": [],
   "source": []
  }
 ],
 "metadata": {
  "kernelspec": {
   "display_name": "Python 3 (ipykernel)",
   "language": "python",
   "name": "python3"
  },
  "language_info": {
   "codemirror_mode": {
    "name": "ipython",
    "version": 3
   },
   "file_extension": ".py",
   "mimetype": "text/x-python",
   "name": "python",
   "nbconvert_exporter": "python",
   "pygments_lexer": "ipython3",
   "version": "3.9.12"
  }
 },
 "nbformat": 4,
 "nbformat_minor": 5
}
